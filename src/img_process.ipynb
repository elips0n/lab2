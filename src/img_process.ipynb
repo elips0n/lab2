{
 "cells": [
  {
   "cell_type": "code",
   "execution_count": 37,
   "metadata": {},
   "outputs": [],
   "source": [
    "import cv2\n",
    "import os\n",
    "import config\n",
    "import numpy as np"
   ]
  },
  {
   "cell_type": "code",
   "execution_count": 38,
   "metadata": {},
   "outputs": [],
   "source": [
    "def load():\n",
    "    \"\"\"Загрузка картинок без обрезания\"\"\"\n",
    "    src_img_folder = config.IMG_PATH\n",
    "    return [cv2.imread(f'{src_img_folder}{os.path.sep}{file}', cv2.IMREAD_GRAYSCALE) for file in os.listdir(src_img_folder)]"
   ]
  },
  {
   "cell_type": "code",
   "execution_count": 39,
   "metadata": {},
   "outputs": [],
   "source": [
    "def split(img):\n",
    "    \"\"\"Разбиение картинок на маленькие\"\"\"\n",
    "    size = config.PART_PER_IMG\n",
    "    img_height = img.shape[0] // size\n",
    "    img_width = img.shape[1] // size\n",
    "    res = []\n",
    "    for i in range(size):\n",
    "        for j in range(size):\n",
    "            res.append(img[i * img_height:(i+1) * img_height, j * img_width:(j+1) * img_width])\n",
    "    return res"
   ]
  },
  {
   "cell_type": "code",
   "execution_count": 40,
   "metadata": {},
   "outputs": [],
   "source": [
    "def squeeze(split_img):\n",
    "    \"\"\"Сжатие 32 на 32\"\"\"\n",
    "    return cv2.resize(split_img, (32, 32))"
   ]
  },
  {
   "cell_type": "code",
   "execution_count": 41,
   "metadata": {},
   "outputs": [],
   "source": [
    "def img_to1d(img):\n",
    "    \"\"\"Трансформация к 1 мерному\"\"\"\n",
    "    return img.ravel()"
   ]
  },
  {
   "cell_type": "code",
   "execution_count": 42,
   "metadata": {},
   "outputs": [],
   "source": [
    "def normalize(img):\n",
    "    \"\"\"Нормализация каждого пикселя к отрезку [0, 1]\"\"\"\n",
    "    return img / 255.0"
   ]
  },
  {
   "cell_type": "code",
   "execution_count": 43,
   "metadata": {},
   "outputs": [],
   "source": [
    "def save(imgs):\n",
    "    for i in range(len(split_imgs)):\n",
    "        cv2.imwrite(f'slice_img/alpha1-{i}.png', split_imgs[i])"
   ]
  },
  {
   "cell_type": "code",
   "execution_count": 44,
   "metadata": {},
   "outputs": [],
   "source": [
    "def process_img(img):\n",
    "    \"\"\"Обработка исходной картинка\"\"\"\n",
    "    return normalize(img_to1d(squeeze(img)))"
   ]
  },
  {
   "cell_type": "code",
   "execution_count": 45,
   "metadata": {},
   "outputs": [],
   "source": [
    "src_imgs = load()\n",
    "label = 0\n",
    "features = []\n",
    "labels = []\n",
    "for img in src_imgs:\n",
    "    split_imgs = split(img)\n",
    "    for split_img in split_imgs:\n",
    "        features.append(process_img(split_img))\n",
    "        labels.append(label)\n",
    "    label += 1\n",
    "data_set = (features, labels)"
   ]
  },
  {
   "cell_type": "code",
   "execution_count": 49,
   "metadata": {},
   "outputs": [
    {
     "data": {
      "text/plain": [
       "(500, 500)"
      ]
     },
     "execution_count": 49,
     "metadata": {},
     "output_type": "execute_result"
    }
   ],
   "source": [
    "len(data_set[0]), len(data_set[1])"
   ]
  },
  {
   "cell_type": "code",
   "execution_count": null,
   "metadata": {},
   "outputs": [],
   "source": []
  }
 ],
 "metadata": {
  "kernelspec": {
   "display_name": "Python 3",
   "language": "python",
   "name": "python3"
  },
  "language_info": {
   "codemirror_mode": {
    "name": "ipython",
    "version": 3
   },
   "file_extension": ".py",
   "mimetype": "text/x-python",
   "name": "python",
   "nbconvert_exporter": "python",
   "pygments_lexer": "ipython3",
   "version": "3.8.5"
  }
 },
 "nbformat": 4,
 "nbformat_minor": 4
}
